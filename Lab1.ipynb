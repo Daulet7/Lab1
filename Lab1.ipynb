{
 "cells": [
  {
   "cell_type": "raw",
   "id": "02b8fc7a-2721-49e7-840a-381f7922c815",
   "metadata": {},
   "source": [
    "Introduction"
   ]
  },
  {
   "cell_type": "code",
   "execution_count": 14,
   "id": "a10aafac-017f-4bd2-8e08-24a9d7c242b2",
   "metadata": {},
   "outputs": [
    {
     "name": "stdout",
     "output_type": "stream",
     "text": [
      "Hello, World!\n"
     ]
    }
   ],
   "source": [
    "print(\"Hello, World!\")"
   ]
  },
  {
   "cell_type": "markdown",
   "id": "d2c2fda4-7d38-42c1-8eaa-33c2ff588a2e",
   "metadata": {},
   "source": [
    "Getting started"
   ]
  },
  {
   "cell_type": "code",
   "execution_count": 19,
   "id": "41b929d1-84f2-4ec1-ad26-aae0f3636f61",
   "metadata": {},
   "outputs": [
    {
     "name": "stdout",
     "output_type": "stream",
     "text": [
      "3.12.7 | packaged by Anaconda, Inc. | (main, Oct  4 2024, 13:17:27) [MSC v.1929 64 bit (AMD64)]\n"
     ]
    }
   ],
   "source": [
    "import sys\n",
    "print(sys.version)"
   ]
  },
  {
   "cell_type": "markdown",
   "id": "d733ca63-749e-4dd8-88a8-abb31f9cc1f3",
   "metadata": {},
   "source": [
    "Syntax"
   ]
  },
  {
   "cell_type": "code",
   "execution_count": 22,
   "id": "a2154140-656a-4be7-837b-19b20f8925b7",
   "metadata": {},
   "outputs": [
    {
     "name": "stdout",
     "output_type": "stream",
     "text": [
      "Five is greater than two!\n",
      "Five is greater than two!\n"
     ]
    }
   ],
   "source": [
    "if 5 > 2:\n",
    "    print(\"Five is greater than two!\")\n",
    "    if 5 > 2:\n",
    "        print(\"Five is greater than two!\")"
   ]
  },
  {
   "cell_type": "code",
   "execution_count": 24,
   "id": "b11286d2-cab9-4075-b8ce-b9e5489ddb5d",
   "metadata": {},
   "outputs": [],
   "source": [
    "x = 5\n",
    "y = \"Hello, World\""
   ]
  },
  {
   "cell_type": "code",
   "execution_count": 26,
   "id": "91b9e356-d00d-4d8f-be38-741728fbd311",
   "metadata": {},
   "outputs": [
    {
     "name": "stdout",
     "output_type": "stream",
     "text": [
      "Hello, World!\n"
     ]
    }
   ],
   "source": [
    "#This is a comment.\n",
    "print(\"Hello, World!\")"
   ]
  },
  {
   "cell_type": "markdown",
   "id": "bd1ddb3b-cfa9-484c-9358-a2bae594fa7c",
   "metadata": {},
   "source": [
    "Comments"
   ]
  },
  {
   "cell_type": "code",
   "execution_count": 29,
   "id": "20797262-1959-4cb2-88e8-07a70468e83d",
   "metadata": {},
   "outputs": [
    {
     "name": "stdout",
     "output_type": "stream",
     "text": [
      "Cheers, Mate\n"
     ]
    }
   ],
   "source": [
    "#print(\"Hello, World!\")\n",
    "print(\"Cheers, Mate\")"
   ]
  },
  {
   "cell_type": "code",
   "execution_count": 31,
   "id": "20995d83-ede6-46df-8b3b-53d0a9737609",
   "metadata": {},
   "outputs": [
    {
     "name": "stdout",
     "output_type": "stream",
     "text": [
      "Hello, World!\n"
     ]
    }
   ],
   "source": [
    "#This is a comment\n",
    "#Written in\n",
    "#more than just two lines\n",
    "print(\"Hello, World!\")"
   ]
  },
  {
   "cell_type": "code",
   "execution_count": 33,
   "id": "100c1d38-1426-4b6a-a747-057361d671bd",
   "metadata": {},
   "outputs": [
    {
     "name": "stdout",
     "output_type": "stream",
     "text": [
      "Hellow, World!\n"
     ]
    }
   ],
   "source": [
    "\"\"\"\n",
    "This is a comment\n",
    "written in\n",
    "more than just tow lines\n",
    "\"\"\"\n",
    "print(\"Hellow, World!\")"
   ]
  },
  {
   "cell_type": "markdown",
   "id": "3273150c-01ae-4cf1-b161-46830ea5b798",
   "metadata": {},
   "source": [
    "Variables"
   ]
  },
  {
   "cell_type": "code",
   "execution_count": 36,
   "id": "951a00ca-ab9a-4a59-a6fe-51dfa57fb6c0",
   "metadata": {},
   "outputs": [
    {
     "name": "stdout",
     "output_type": "stream",
     "text": [
      "5\n",
      "John\n"
     ]
    }
   ],
   "source": [
    "x = 5\n",
    "y = \"John\"\n",
    "print(x)\n",
    "print(y)"
   ]
  },
  {
   "cell_type": "code",
   "execution_count": 38,
   "id": "0e1d27cf-1184-4fe8-912d-743e21842d38",
   "metadata": {},
   "outputs": [
    {
     "name": "stdout",
     "output_type": "stream",
     "text": [
      "Sally\n"
     ]
    }
   ],
   "source": [
    "x = 4 # x is of type int\n",
    "x = \"Sally\" # x is now of type str\n",
    "print(x)"
   ]
  },
  {
   "cell_type": "code",
   "execution_count": 40,
   "id": "bc274d5d-bf1e-4877-b458-28f258b35b4a",
   "metadata": {},
   "outputs": [],
   "source": [
    "x = str(3) # x will be '3'\n",
    "y = int(3) # y will be 3\n",
    "z = float(3) # z will be 3.0"
   ]
  },
  {
   "cell_type": "code",
   "execution_count": 42,
   "id": "d76f6dbc-9fa6-437f-9cb4-800917e2aa09",
   "metadata": {},
   "outputs": [
    {
     "name": "stdout",
     "output_type": "stream",
     "text": [
      "<class 'int'>\n",
      "<class 'str'>\n"
     ]
    }
   ],
   "source": [
    "x = 5\n",
    "y = \"John\"\n",
    "print(type(x))\n",
    "print(type(y))"
   ]
  },
  {
   "cell_type": "code",
   "execution_count": 44,
   "id": "9b907925-26df-4bb6-a2ba-53b3c37d82f3",
   "metadata": {},
   "outputs": [],
   "source": [
    "x = \"John\"\n",
    "# is the same as\n",
    "x = 'John'"
   ]
  },
  {
   "cell_type": "code",
   "execution_count": 46,
   "id": "d7db54f3-7394-45f6-95ab-aa087cd16694",
   "metadata": {},
   "outputs": [],
   "source": [
    "a = 4\n",
    "A = 'Sally'\n",
    "# A will not overwrite a"
   ]
  },
  {
   "cell_type": "code",
   "execution_count": 48,
   "id": "a3648d9f-10c5-4cbe-b0b0-8d024b757a77",
   "metadata": {},
   "outputs": [],
   "source": [
    "myvar = \"John\"\n",
    "my_var = \"John\"\n",
    "_my_var = \"John\"\n",
    "myVar = \"John\"\n",
    "MYVAR = \"John\"\n",
    "myvar2 = \"John\""
   ]
  },
  {
   "cell_type": "code",
   "execution_count": 50,
   "id": "3315da69-39c0-4ff2-9032-ee4beb9261e8",
   "metadata": {},
   "outputs": [
    {
     "name": "stdout",
     "output_type": "stream",
     "text": [
      "Orange\n",
      "Banana\n",
      "Cherry\n"
     ]
    }
   ],
   "source": [
    "x, y, z = 'Orange', 'Banana', 'Cherry'\n",
    "print(x)\n",
    "print(y)\n",
    "print(z)"
   ]
  },
  {
   "cell_type": "code",
   "execution_count": 52,
   "id": "aaafe6bd-2c65-4487-99c7-94d7b37bacb6",
   "metadata": {},
   "outputs": [
    {
     "name": "stdout",
     "output_type": "stream",
     "text": [
      "Orange\n",
      "Orange\n",
      "Orange\n"
     ]
    }
   ],
   "source": [
    "x=y=z='Orange'\n",
    "print(x)\n",
    "print(y)\n",
    "print(z)"
   ]
  },
  {
   "cell_type": "code",
   "execution_count": 54,
   "id": "01b5b7b0-95e7-4908-bf44-70957fbd59b6",
   "metadata": {},
   "outputs": [
    {
     "name": "stdout",
     "output_type": "stream",
     "text": [
      "apple\n",
      "banana\n",
      "cherry\n"
     ]
    }
   ],
   "source": [
    "fruits = ['apple', 'banana', 'cherry']\n",
    "x, y, z = fruits\n",
    "print(x)\n",
    "print(y)\n",
    "print(z)"
   ]
  },
  {
   "cell_type": "code",
   "execution_count": 56,
   "id": "7a21c369-0213-4265-9570-73453713aa27",
   "metadata": {},
   "outputs": [
    {
     "name": "stdout",
     "output_type": "stream",
     "text": [
      "Python is awsome\n"
     ]
    }
   ],
   "source": [
    "x = 'Python is awsome'\n",
    "print(x)"
   ]
  },
  {
   "cell_type": "code",
   "execution_count": 58,
   "id": "21c13ab6-589e-4ef1-8e00-694967117659",
   "metadata": {},
   "outputs": [
    {
     "name": "stdout",
     "output_type": "stream",
     "text": [
      "Python is awesome\n"
     ]
    }
   ],
   "source": [
    "x = 'Python'\n",
    "y = 'is'\n",
    "z = 'awesome'\n",
    "print(x, y, z)"
   ]
  },
  {
   "cell_type": "code",
   "execution_count": 66,
   "id": "7c6000e4-d3cb-4b40-837b-7e79c42642e9",
   "metadata": {},
   "outputs": [
    {
     "name": "stdout",
     "output_type": "stream",
     "text": [
      "Python is awesome\n"
     ]
    }
   ],
   "source": [
    "x = 'Python '\n",
    "y = 'is '\n",
    "z = 'awesome'\n",
    "print(x + y + z)"
   ]
  },
  {
   "cell_type": "code",
   "execution_count": 68,
   "id": "d556e9ee-740b-493c-9841-5b73e3174a81",
   "metadata": {},
   "outputs": [
    {
     "name": "stdout",
     "output_type": "stream",
     "text": [
      "15\n"
     ]
    }
   ],
   "source": [
    "x = 5\n",
    "y = 10\n",
    "print(x+y)"
   ]
  },
  {
   "cell_type": "code",
   "execution_count": 70,
   "id": "d102467c-1743-4ac7-a8b6-2dd5777d1e5d",
   "metadata": {},
   "outputs": [
    {
     "name": "stdout",
     "output_type": "stream",
     "text": [
      "5 John\n"
     ]
    }
   ],
   "source": [
    "x = 5\n",
    "y = 'John'\n",
    "print(x, y)"
   ]
  },
  {
   "cell_type": "code",
   "execution_count": 74,
   "id": "bc161349-b8f6-4a37-bdc0-5513c940abaf",
   "metadata": {},
   "outputs": [
    {
     "name": "stdout",
     "output_type": "stream",
     "text": [
      "Python is awesome\n"
     ]
    }
   ],
   "source": [
    "x = 'awesome'\n",
    "\n",
    "def myfunc():\n",
    "    print('Python is', x)\n",
    "\n",
    "myfunc()"
   ]
  },
  {
   "cell_type": "code",
   "execution_count": 76,
   "id": "866b9d49-b276-491f-9b88-a7c4dcba436d",
   "metadata": {},
   "outputs": [
    {
     "name": "stdout",
     "output_type": "stream",
     "text": [
      "Python is fantastic\n",
      "Python is awesome\n"
     ]
    }
   ],
   "source": [
    "x = \"awesome\"\n",
    "\n",
    "def myfunc():\n",
    "  x = \"fantastic\"\n",
    "  print(\"Python is \" + x)\n",
    "\n",
    "myfunc()\n",
    "\n",
    "print(\"Python is \" + x)\n"
   ]
  },
  {
   "cell_type": "code",
   "execution_count": 6,
   "id": "5e5dc5a9-6df0-402b-bd85-e2432b66e204",
   "metadata": {},
   "outputs": [
    {
     "name": "stdout",
     "output_type": "stream",
     "text": [
      "Python is fantastic\n"
     ]
    }
   ],
   "source": [
    "def myfunc():\n",
    "    global x\n",
    "    x = 'fantastic'\n",
    "    \n",
    "myfunc()\n",
    "\n",
    "print('Python is ' + x)"
   ]
  },
  {
   "cell_type": "code",
   "execution_count": 8,
   "id": "a0119ff6-2eff-4e48-a9ed-fe8bb9573655",
   "metadata": {},
   "outputs": [
    {
     "name": "stdout",
     "output_type": "stream",
     "text": [
      "Python is fantastic\n"
     ]
    }
   ],
   "source": [
    "x = 'awesome'\n",
    "\n",
    "def myfunc():\n",
    "    global x\n",
    "    x = 'fantastic'\n",
    "\n",
    "myfunc()\n",
    "\n",
    "print('Python is ' + x)"
   ]
  },
  {
   "cell_type": "code",
   "execution_count": 10,
   "id": "69afb877-9656-4c2d-b6b2-bbdc095635b0",
   "metadata": {},
   "outputs": [
    {
     "name": "stdout",
     "output_type": "stream",
     "text": [
      "<class 'int'>\n"
     ]
    }
   ],
   "source": [
    "x = 5\n",
    "print(type(x))"
   ]
  },
  {
   "cell_type": "code",
   "execution_count": 12,
   "id": "f0f61f3f-764a-4d2e-84e0-89cf8f902e3a",
   "metadata": {},
   "outputs": [
    {
     "name": "stdout",
     "output_type": "stream",
     "text": [
      "<class 'int'>\n",
      "<class 'float'>\n",
      "<class 'complex'>\n"
     ]
    }
   ],
   "source": [
    "x = 1\n",
    "y = 2.8\n",
    "z = 1j\n",
    "print(type(x))\n",
    "print(type(y))\n",
    "print(type(z))"
   ]
  },
  {
   "cell_type": "code",
   "execution_count": 14,
   "id": "6e7a99c0-7a16-4c26-bb77-374e41021478",
   "metadata": {},
   "outputs": [
    {
     "name": "stdout",
     "output_type": "stream",
     "text": [
      "1.0\n",
      "2\n",
      "(1+0j)\n",
      "<class 'float'>\n",
      "<class 'int'>\n",
      "<class 'complex'>\n"
     ]
    }
   ],
   "source": [
    "x = 1\n",
    "y = 2.8\n",
    "z = 1j\n",
    "\n",
    "a = float(x)\n",
    "\n",
    "b = int(y)\n",
    "\n",
    "c = complex(x)\n",
    "\n",
    "print(a)\n",
    "print(b)\n",
    "print(c)\n",
    "\n",
    "print(type(a))\n",
    "print(type(b))\n",
    "print(type(c))"
   ]
  },
  {
   "cell_type": "markdown",
   "id": "12120fa6-9027-48b1-8534-e0013f0f934f",
   "metadata": {},
   "source": [
    "String"
   ]
  },
  {
   "cell_type": "code",
   "execution_count": 38,
   "id": "a3fc4db8-3fe8-4e50-a8b8-03cded9ee30e",
   "metadata": {},
   "outputs": [
    {
     "name": "stdout",
     "output_type": "stream",
     "text": [
      "9\n"
     ]
    }
   ],
   "source": [
    "import random\n",
    "\n",
    "print(random.randrange(1, 10))"
   ]
  },
  {
   "cell_type": "code",
   "execution_count": 18,
   "id": "6c959a68-9d9a-4edd-8481-25a89cb437be",
   "metadata": {},
   "outputs": [
    {
     "name": "stdout",
     "output_type": "stream",
     "text": [
      "It's alright\n",
      "He is called 'Johnny'\n",
      "He is called \"Johnny\"\n"
     ]
    }
   ],
   "source": [
    "print(\"It's alright\")\n",
    "print(\"He is called 'Johnny'\")\n",
    "print('He is called \"Johnny\"')"
   ]
  },
  {
   "cell_type": "code",
   "execution_count": 20,
   "id": "52b49fca-51d4-4f81-8b14-36517640af61",
   "metadata": {},
   "outputs": [
    {
     "name": "stdout",
     "output_type": "stream",
     "text": [
      "Hello\n"
     ]
    }
   ],
   "source": [
    "a = \"Hello\"\n",
    "print(a)"
   ]
  },
  {
   "cell_type": "code",
   "execution_count": 22,
   "id": "ddf68deb-ecf6-46d5-8cd1-0159ec739d75",
   "metadata": {},
   "outputs": [
    {
     "name": "stdout",
     "output_type": "stream",
     "text": [
      "SMomeomekfkreemrr,\n",
      "frfkrpgo4pgmpetg,\n",
      "fkerpfokeoerkeprfk.\n"
     ]
    }
   ],
   "source": [
    "a = \"\"\"SMomeomekfkreemrr,\n",
    "frfkrpgo4pgmpetg,\n",
    "fkerpfokeoerkeprfk.\"\"\"\n",
    "print(a)"
   ]
  },
  {
   "cell_type": "code",
   "execution_count": 24,
   "id": "bb00b352-9f2b-47a9-bf44-b6da2a80a1af",
   "metadata": {},
   "outputs": [
    {
     "name": "stdout",
     "output_type": "stream",
     "text": [
      "e\n"
     ]
    }
   ],
   "source": [
    "a = \"Hello, World!\"\n",
    "print(a[1])"
   ]
  },
  {
   "cell_type": "code",
   "execution_count": 26,
   "id": "814edeaf-6245-4df1-82d9-491a5f0ccbca",
   "metadata": {},
   "outputs": [
    {
     "name": "stdout",
     "output_type": "stream",
     "text": [
      "b\n",
      "a\n",
      "n\n",
      "a\n",
      "n\n",
      "a\n"
     ]
    }
   ],
   "source": [
    "for x in \"banana\":\n",
    "    print(x)"
   ]
  },
  {
   "cell_type": "code",
   "execution_count": 30,
   "id": "b7800929-b6e6-46d8-b646-9f5fde5b61b6",
   "metadata": {},
   "outputs": [
    {
     "name": "stdout",
     "output_type": "stream",
     "text": [
      "13\n"
     ]
    }
   ],
   "source": [
    "a = 'Hello, World!'\n",
    "print(len(a))"
   ]
  },
  {
   "cell_type": "code",
   "execution_count": 34,
   "id": "5d1025be-d83e-47f3-a7be-72500e78c7f5",
   "metadata": {},
   "outputs": [
    {
     "name": "stdout",
     "output_type": "stream",
     "text": [
      "Yes, 'free' is present.\n"
     ]
    }
   ],
   "source": [
    "txt = 'The best things in life are free!'\n",
    "if 'free' in txt:\n",
    "    print(\"Yes, 'free' is present.\")"
   ]
  },
  {
   "cell_type": "code",
   "execution_count": 36,
   "id": "a8162acf-1a41-4018-882e-d5b0c1642dbb",
   "metadata": {},
   "outputs": [
    {
     "name": "stdout",
     "output_type": "stream",
     "text": [
      "No, 'expensive' is NOT present\n"
     ]
    }
   ],
   "source": [
    "txt = 'The best things in life are free!'\n",
    "if 'expensive' not in txt:\n",
    "    print(\"No, 'expensive' is NOT present\")"
   ]
  },
  {
   "cell_type": "code",
   "execution_count": 40,
   "id": "ceaeed17-3a8d-4785-ae86-227d216a8eb8",
   "metadata": {},
   "outputs": [
    {
     "name": "stdout",
     "output_type": "stream",
     "text": [
      "llo\n"
     ]
    }
   ],
   "source": [
    "b = 'Hello, Worlds!'\n",
    "print(b[2:5])"
   ]
  },
  {
   "cell_type": "code",
   "execution_count": 42,
   "id": "ae742f7a-58a8-46a1-bba2-946c64779ace",
   "metadata": {},
   "outputs": [
    {
     "name": "stdout",
     "output_type": "stream",
     "text": [
      "Hello\n"
     ]
    }
   ],
   "source": [
    "b = 'Hello, World!'\n",
    "print(b[:5])"
   ]
  },
  {
   "cell_type": "code",
   "execution_count": 44,
   "id": "b9e6eb48-e1ca-493a-8c53-f36b6b7dbd89",
   "metadata": {},
   "outputs": [
    {
     "name": "stdout",
     "output_type": "stream",
     "text": [
      "llo, World!\n"
     ]
    }
   ],
   "source": [
    "b = 'Hello, World!'\n",
    "print(b[2:])"
   ]
  },
  {
   "cell_type": "code",
   "execution_count": 46,
   "id": "061e40e6-503b-42cc-ade3-696ad3d843ea",
   "metadata": {},
   "outputs": [
    {
     "name": "stdout",
     "output_type": "stream",
     "text": [
      "orl\n"
     ]
    }
   ],
   "source": [
    "b = 'Hello, World!'\n",
    "print(b[-5:-2])"
   ]
  },
  {
   "cell_type": "code",
   "execution_count": 48,
   "id": "2473eb43-639d-4f65-80b7-a36cf24487af",
   "metadata": {},
   "outputs": [
    {
     "name": "stdout",
     "output_type": "stream",
     "text": [
      "HELLO, WORLD!\n"
     ]
    }
   ],
   "source": [
    "b = 'Hello, World!'\n",
    "print(b.upper())"
   ]
  },
  {
   "cell_type": "code",
   "execution_count": 50,
   "id": "560297d4-4091-4fb3-8038-f50172e876ad",
   "metadata": {},
   "outputs": [
    {
     "name": "stdout",
     "output_type": "stream",
     "text": [
      "hello, world!\n"
     ]
    }
   ],
   "source": [
    "b = 'Hello, World!'\n",
    "print(b.lower())"
   ]
  },
  {
   "cell_type": "code",
   "execution_count": 52,
   "id": "49f76777-f9cb-46e3-9c95-74afe1ce8f44",
   "metadata": {},
   "outputs": [
    {
     "name": "stdout",
     "output_type": "stream",
     "text": [
      "      Hello, World!      \n",
      "Hello, World!\n"
     ]
    }
   ],
   "source": [
    "b = '      Hello, World!      '\n",
    "print(b)\n",
    "print(b.strip())"
   ]
  },
  {
   "cell_type": "code",
   "execution_count": 56,
   "id": "3284d300-2afc-4cc4-bc0e-92a0ae84c943",
   "metadata": {},
   "outputs": [
    {
     "name": "stdout",
     "output_type": "stream",
     "text": [
      "Jello, JJJJ World!\n"
     ]
    }
   ],
   "source": [
    "b = 'Hello, HHHH World!'\n",
    "print(b.replace('H', 'J'))"
   ]
  },
  {
   "cell_type": "code",
   "execution_count": 58,
   "id": "79db0195-8c5b-461d-a580-806b2f516279",
   "metadata": {},
   "outputs": [
    {
     "name": "stdout",
     "output_type": "stream",
     "text": [
      "['Hello', ' World!']\n"
     ]
    }
   ],
   "source": [
    "b = 'Hello, World!'\n",
    "print(b.split(','))"
   ]
  },
  {
   "cell_type": "code",
   "execution_count": 62,
   "id": "d6b8a2ee-fd21-4852-a3cc-13caa357f68e",
   "metadata": {},
   "outputs": [
    {
     "name": "stdout",
     "output_type": "stream",
     "text": [
      "HelloWorld\n",
      "Hello World\n"
     ]
    }
   ],
   "source": [
    "a = 'Hello'\n",
    "b = 'World'\n",
    "c = a + b\n",
    "print (c)\n",
    "c = a + ' ' + b\n",
    "print(c)"
   ]
  },
  {
   "cell_type": "code",
   "execution_count": 64,
   "id": "c5be23e2-e597-4cda-bba4-ea3cef11ebde",
   "metadata": {},
   "outputs": [
    {
     "name": "stdout",
     "output_type": "stream",
     "text": [
      "My name is John, I am 36\n"
     ]
    }
   ],
   "source": [
    "age = 36\n",
    "txt = f'My name is John, I am {age}'\n",
    "print(txt)"
   ]
  },
  {
   "cell_type": "code",
   "execution_count": 68,
   "id": "dcaca658-b69a-4f21-ba02-d4550d5fed44",
   "metadata": {},
   "outputs": [
    {
     "name": "stdout",
     "output_type": "stream",
     "text": [
      "The price is 59.000 dollars\n"
     ]
    }
   ],
   "source": [
    "price = 59\n",
    "txt = f'The price is {price:.3f} dollars'\n",
    "print(txt)"
   ]
  },
  {
   "cell_type": "code",
   "execution_count": 70,
   "id": "7bdfad53-3601-4f0e-bec4-55b8ce25bb60",
   "metadata": {},
   "outputs": [
    {
     "name": "stdout",
     "output_type": "stream",
     "text": [
      "The price is 1180 dollars\n"
     ]
    }
   ],
   "source": [
    "txt = f'The price is {20 * 59} dollars'\n",
    "print(txt)"
   ]
  },
  {
   "cell_type": "code",
   "execution_count": 74,
   "id": "e833c4ea-0554-4565-be43-075160cf20bf",
   "metadata": {},
   "outputs": [
    {
     "name": "stdout",
     "output_type": "stream",
     "text": [
      "We are the so-called \"Vikings\" from the north\n"
     ]
    }
   ],
   "source": [
    "txt = 'We are the so-called \\\"Vikings\\\" from the north'\n",
    "print(txt)"
   ]
  },
  {
   "cell_type": "code",
   "execution_count": null,
   "id": "c7397ce9-af0e-43a5-aa3c-bc6a67db4f0d",
   "metadata": {},
   "outputs": [],
   "source": []
  }
 ],
 "metadata": {
  "kernelspec": {
   "display_name": "Python [conda env:base] *",
   "language": "python",
   "name": "conda-base-py"
  },
  "language_info": {
   "codemirror_mode": {
    "name": "ipython",
    "version": 3
   },
   "file_extension": ".py",
   "mimetype": "text/x-python",
   "name": "python",
   "nbconvert_exporter": "python",
   "pygments_lexer": "ipython3",
   "version": "3.12.7"
  }
 },
 "nbformat": 4,
 "nbformat_minor": 5
}
